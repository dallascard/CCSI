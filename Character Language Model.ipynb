{
 "cells": [
  {
   "cell_type": "code",
   "execution_count": null,
   "id": "7a6a5c00",
   "metadata": {},
   "outputs": [],
   "source": [
    "# Based on https://nbviewer.org/gist/yoavg/d76121dfde2618422139"
   ]
  },
  {
   "cell_type": "code",
   "execution_count": null,
   "id": "b3c47b7c",
   "metadata": {},
   "outputs": [],
   "source": [
    "# Import some basic python packages\n",
    "\n",
    "import json\n",
    "from collections import defaultdict, Counter\n",
    "from tqdm import tqdm\n",
    "from random import random\n"
   ]
  },
  {
   "cell_type": "code",
   "execution_count": null,
   "id": "2a27d4ad",
   "metadata": {},
   "outputs": [],
   "source": [
    "# Get a corpus of Shakespearean text\n",
    "\n",
    "! [ -f shakespeare_input.txt ] || curl -O https://norvig.com/ngrams/shakespeare_input.txt\n",
    "! wc shakespeare_input.txt"
   ]
  },
  {
   "cell_type": "code",
   "execution_count": null,
   "id": "bc5e6f5a",
   "metadata": {},
   "outputs": [],
   "source": [
    "# Read in the data\n",
    "with open('shakespeare_input.txt') as f:\n",
    "    text = f.read()\n",
    "    \n",
    "# Show a sample\n",
    "print(text[:100])"
   ]
  },
  {
   "cell_type": "code",
   "execution_count": null,
   "id": "35e7234c",
   "metadata": {},
   "outputs": [],
   "source": [
    "# Define a function to build a simple character language model\n",
    "\n",
    "def train_char_lm(data, order=4):\n",
    "    # Create a defaultdict of Counters to store the language model\n",
    "    lm = defaultdict(Counter)\n",
    "\n",
    "    # also count each span, for initial sampling\n",
    "    span_counter = Counter()\n",
    "\n",
    "    # Process each span of length order, and count the next character\n",
    "    for i in tqdm(range(len(data)-order)):\n",
    "        history, char = data[i:i+order], data[i+order]\n",
    "        lm[history][char]+=1\n",
    "\n",
    "        # Also count the spans, for future sampling\n",
    "        span_counter[data[i:i+order]] += 1\n",
    "\n",
    "    # Convert the counts to probabilities\n",
    "    def normalize(counter):\n",
    "        s = float(sum(counter.values()))\n",
    "        return [(c,cnt/s) for c,cnt in counter.most_common()]\n",
    "    \n",
    "    normalized_lm = {hist:normalize(chars) for hist, chars in lm.items()}\n",
    "\n",
    "    span_probs = normalize(span_counter)\n",
    "\n",
    "    # Return the language model and span probabilities\n",
    "    return normalized_lm, span_probs\n"
   ]
  },
  {
   "cell_type": "code",
   "execution_count": null,
   "id": "d20f4c57",
   "metadata": {},
   "outputs": [],
   "source": [
    "# Try training an order-4 language model\n",
    "lm, span_probs = train_char_lm(text, order=4)\n"
   ]
  },
  {
   "cell_type": "code",
   "execution_count": null,
   "id": "01a31589",
   "metadata": {},
   "outputs": [],
   "source": [
    "# Look at the letter probabilities following \"Rome\"\n",
    "lm['Rome']"
   ]
  },
  {
   "cell_type": "code",
   "execution_count": null,
   "id": "9ed08d41",
   "metadata": {},
   "outputs": [],
   "source": [
    "# Look at the letter probabilities following \"Juli\"\n",
    "lm['Juli']"
   ]
  },
  {
   "cell_type": "code",
   "execution_count": null,
   "id": "f832f222",
   "metadata": {},
   "outputs": [],
   "source": [
    "# Define a function to generate a single letter from the language model\n",
    "\n",
    "def generate_letter(lm, history, order):\n",
    "        # Take the end of the text that is given\n",
    "        history = history[-order:]\n",
    "\n",
    "        # Look up the LM probabilities\n",
    "        dist = lm[history]\n",
    "        \n",
    "        # Sample a random number bewteen 0 and 1\n",
    "        x = random()\n",
    "        \n",
    "        # Use that to choose a letter from the distribution\n",
    "        for c, v in dist:\n",
    "            x = x - v\n",
    "            if x <= 0: return c\n"
   ]
  },
  {
   "cell_type": "code",
   "execution_count": null,
   "id": "637f96a9",
   "metadata": {},
   "outputs": [],
   "source": [
    "# Test it out: generate a letter after \"Juli\" 10 times \n",
    "for i in range(10):\n",
    "    print(generate_letter(lm, 'Juli', 4))"
   ]
  },
  {
   "cell_type": "code",
   "execution_count": null,
   "id": "b7f80855",
   "metadata": {},
   "outputs": [],
   "source": [
    "# Define a function to randomly sample a seed span \n",
    "\n",
    "def generate_seed(span_probs):\n",
    "    x = random()\n",
    "    for c,v in span_probs:\n",
    "        x = x - v\n",
    "        if x <= 0: return c\n"
   ]
  },
  {
   "cell_type": "code",
   "execution_count": null,
   "id": "2ff331e3",
   "metadata": {},
   "outputs": [],
   "source": [
    "# Define a function to generate text, one letter at a time\n",
    "\n",
    "def generate_text(lm, seeds, order, nletters=1000):\n",
    "    # Get a starting seed (a span of length order)\n",
    "    starting_seed = generate_seed(seeds)\n",
    "    \n",
    "    # Set the history to that seed\n",
    "    history = starting_seed\n",
    "    \n",
    "    # Create an array to store the output\n",
    "    out = []\n",
    "    \n",
    "    # Sample a number of letters equal to nletters\n",
    "    for i in range(nletters):\n",
    "\n",
    "        # Sample one letter based on the history\n",
    "        c = generate_letter(lm, history, order)\n",
    "        \n",
    "        # Add the sampled letter to the history\n",
    "        history += c\n",
    "\n",
    "    # Return the output\n",
    "    return history[order:]"
   ]
  },
  {
   "cell_type": "code",
   "execution_count": null,
   "id": "7159362b",
   "metadata": {},
   "outputs": [],
   "source": [
    "# Estimate an order-1 character LM\n",
    "lm, span_probs = train_char_lm(text, order=1)"
   ]
  },
  {
   "cell_type": "code",
   "execution_count": null,
   "id": "ddfb7042",
   "metadata": {},
   "outputs": [],
   "source": [
    "# Try generating some text\n",
    "print(generate_text(lm, span_probs, 1))"
   ]
  },
  {
   "cell_type": "code",
   "execution_count": null,
   "id": "a7b07bc9",
   "metadata": {},
   "outputs": [],
   "source": [
    "# Estimate an order-4 character LM\n",
    "lm, span_probs = train_char_lm(text, order=4)"
   ]
  },
  {
   "cell_type": "code",
   "execution_count": null,
   "id": "c86912de",
   "metadata": {},
   "outputs": [],
   "source": [
    "# Try generating some text\n",
    "print(generate_text(lm, span_probs, 4))"
   ]
  },
  {
   "cell_type": "code",
   "execution_count": null,
   "id": "56ab07a2",
   "metadata": {},
   "outputs": [],
   "source": [
    "# Estimate an order-7 character LM\n",
    "lm, span_probs = train_char_lm(text, order=7)"
   ]
  },
  {
   "cell_type": "code",
   "execution_count": null,
   "id": "6ef4b240",
   "metadata": {},
   "outputs": [],
   "source": [
    "# Try generating some text\n",
    "print(generate_text(lm, span_probs, 7))"
   ]
  },
  {
   "cell_type": "code",
   "execution_count": null,
   "id": "2f2b27aa",
   "metadata": {},
   "outputs": [],
   "source": []
  }
 ],
 "metadata": {
  "kernelspec": {
   "display_name": "Python 3 (ipykernel)",
   "language": "python",
   "name": "python3"
  },
  "language_info": {
   "codemirror_mode": {
    "name": "ipython",
    "version": 3
   },
   "file_extension": ".py",
   "mimetype": "text/x-python",
   "name": "python",
   "nbconvert_exporter": "python",
   "pygments_lexer": "ipython3",
   "version": "3.10.0"
  }
 },
 "nbformat": 4,
 "nbformat_minor": 5
}
